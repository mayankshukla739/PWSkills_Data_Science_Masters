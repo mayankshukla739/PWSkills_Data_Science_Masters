{
 "cells": [
  {
   "cell_type": "markdown",
   "id": "fad38621-f3df-4d4b-a8f5-72e2ba3fa8be",
   "metadata": {},
   "source": [
    "## Que1- Write a program to take percentage from user and display grade according to the criteria given in question."
   ]
  },
  {
   "cell_type": "code",
   "execution_count": 6,
   "id": "69e85197-fc51-4400-9156-b27ed9b60621",
   "metadata": {},
   "outputs": [
    {
     "name": "stdin",
     "output_type": "stream",
     "text": [
      "Enter Percentage 63.7\n"
     ]
    },
    {
     "name": "stdout",
     "output_type": "stream",
     "text": [
      "You got C grade\n"
     ]
    }
   ],
   "source": [
    "percentage= float(input(\"Enter Percentage\"))\n",
    "if percentage < 0 or percentage > 100:\n",
    "    print(\"Enter valid percentage between 0 to 100\")\n",
    "elif percentage > 90:\n",
    "    print(\"You got A grade\")\n",
    "elif percentage > 80 and percentage <=90:\n",
    "    print(\"You got B grade\")\n",
    "elif percentage >= 60 and percentage <=80:\n",
    "    print(\"You got C grade\")\n",
    "else:\n",
    "    print(\"You got D grade\")\n",
    "    \n",
    "\n"
   ]
  },
  {
   "cell_type": "markdown",
   "id": "876fccc2-7e63-4377-bbd2-72cc36e76d3d",
   "metadata": {},
   "source": [
    "## Que2- Write a program to accept cost price of a bike and display the road tax to be paid according to the criteria given in question."
   ]
  },
  {
   "cell_type": "code",
   "execution_count": 11,
   "id": "d813ad67-26e7-4e32-9d6b-30efd4be9df3",
   "metadata": {},
   "outputs": [
    {
     "name": "stdin",
     "output_type": "stream",
     "text": [
      "Enter the cost price of the bike :  10000\n"
     ]
    },
    {
     "name": "stdout",
     "output_type": "stream",
     "text": [
      "The Road tax of bike to be paid is Rs.500.0\n"
     ]
    }
   ],
   "source": [
    "CP = int(input(\"Enter the cost price of the bike : \"))\n",
    "if CP < 0 :\n",
    "    print(\"Enter valid cost price!!!\")\n",
    "elif CP > 100000 :\n",
    "    tax = (15 * CP) / 100\n",
    "    print(\"The Road tax of bike to be paid is Rs.{}\".format(tax))\n",
    "elif CP > 50000 and CP <= 100000 :\n",
    "    tax = (10 * CP) / 100\n",
    "    print(\"The Road tax of bike to be paid is Rs.{}\".format(tax))\n",
    "else:\n",
    "     tax = (5 * CP) / 100\n",
    "     print(\"The Road tax of bike to be paid is Rs.{}\".format(tax))"
   ]
  },
  {
   "cell_type": "markdown",
   "id": "2dc630ed-8c18-4915-8e2b-a780fa0da03e",
   "metadata": {},
   "source": [
    "## Que3- Accept any city from user and display monumnet of that city."
   ]
  },
  {
   "cell_type": "code",
   "execution_count": 15,
   "id": "4545d4aa-bd6d-4f4b-ba32-c9e23f6e8228",
   "metadata": {},
   "outputs": [
    {
     "name": "stdin",
     "output_type": "stream",
     "text": [
      "Enter any city  Jaipur\n"
     ]
    },
    {
     "name": "stdout",
     "output_type": "stream",
     "text": [
      "The Jal Mahal is situated in Jaipur\n"
     ]
    }
   ],
   "source": [
    "city = str(input(\"Enter any city \"))\n",
    "if city not in [\"Delhi\", \"Agra\", \"Jaipur\"]:\n",
    "    print(\"Enter valid City!!!\")\n",
    "elif city == \"Delhi\":\n",
    "    print(\"The Red Fort is situated in {}\".format(city))\n",
    "elif city == \"Agra\":\n",
    "    print(\"The Taj Mahal is situated in {}\".format(city))\n",
    "else:\n",
    "    print(\"The Jal Mahal is situated in {}\".format(city))\n"
   ]
  },
  {
   "cell_type": "markdown",
   "id": "53b8f9de-917e-4c38-b1e3-6824b240ac77",
   "metadata": {},
   "source": [
    "## Que4- Check how many times a number can be divisible by 3 before it become less than or equal to 10."
   ]
  },
  {
   "cell_type": "code",
   "execution_count": 17,
   "id": "7c86a91d-df83-4438-957d-672f7724ce6b",
   "metadata": {},
   "outputs": [
    {
     "name": "stdin",
     "output_type": "stream",
     "text": [
      "Enter any number 90\n"
     ]
    },
    {
     "name": "stdout",
     "output_type": "stream",
     "text": [
      "The given number 90 can be divide 2 times by 3 before it become less than or equal to 10\n"
     ]
    }
   ],
   "source": [
    "num = int(input(\"Enter any number\"))\n",
    "num1 = num\n",
    "count = 0\n",
    "while num > 10:\n",
    "    num = num/3\n",
    "    count = count + 1\n",
    "print(\"The given number {} can be divide {} times by 3 before it become less than or equal to 10\".format(num1,count))\n",
    "    "
   ]
  },
  {
   "cell_type": "markdown",
   "id": "9e8fad7b-a9fd-42b5-8adb-90e9e1072f65",
   "metadata": {},
   "source": [
    "## Que5- Why and when to use while loop in python give a detailed description with example."
   ]
  },
  {
   "cell_type": "markdown",
   "id": "656820c7-4a36-4500-aea0-cec423cc9845",
   "metadata": {},
   "source": [
    "### Ans- While loop is used to repeat a block of code indefinite number of times until the given condition is satisfied. It is used when the  number of times the loop will be executed is unknown. For example:"
   ]
  },
  {
   "cell_type": "code",
   "execution_count": 18,
   "id": "7f9acfb3-98ad-4c95-8ee0-1094f0dbf84a",
   "metadata": {},
   "outputs": [
    {
     "name": "stdin",
     "output_type": "stream",
     "text": [
      "Enter a number for factorial printing :  5\n"
     ]
    },
    {
     "name": "stdout",
     "output_type": "stream",
     "text": [
      "The factorial of 5 is 120\n"
     ]
    }
   ],
   "source": [
    "# program of factorial\n",
    "# here we dont know what will be the number user is going to enter so the number of time the loop will run is indefinite.\n",
    "num = int(input(\"Enter a number for factorial printing : \"))\n",
    "fact = 1\n",
    "num1 = num\n",
    "while num > 1:\n",
    "    fact = fact * num\n",
    "    num = num - 1\n",
    "print(\"The factorial of {} is {}\".format(num1,fact))"
   ]
  },
  {
   "cell_type": "markdown",
   "id": "7eef8f67-8d9a-4e6b-a580-32fb6934858c",
   "metadata": {},
   "source": [
    "## Que6- Use nested while loop to print 3 different patterns."
   ]
  },
  {
   "cell_type": "code",
   "execution_count": 5,
   "id": "4f393dce-8286-4ee1-a8e3-28a3560919fb",
   "metadata": {},
   "outputs": [
    {
     "name": "stdin",
     "output_type": "stream",
     "text": [
      "Enter number of rows :  6\n"
     ]
    },
    {
     "name": "stdout",
     "output_type": "stream",
     "text": [
      "* \n",
      "* * \n",
      "* * * \n",
      "* * * * \n",
      "* * * * * \n",
      "* * * * * * \n"
     ]
    }
   ],
   "source": [
    "#Pattern 1 \n",
    "\n",
    "r = int(input('Enter number of rows : '))\n",
    " \n",
    "i = 1\n",
    "while i <= r :\n",
    "    j = 1\n",
    "    while j <= i:\n",
    "        print(\"*\", end = \" \")\n",
    "        j = j + 1\n",
    "    print()\n",
    "    i = i + 1"
   ]
  },
  {
   "cell_type": "code",
   "execution_count": 2,
   "id": "d6571218-b8d7-4632-aeb8-a5f359d2226b",
   "metadata": {},
   "outputs": [
    {
     "name": "stdin",
     "output_type": "stream",
     "text": [
      "Enter number of rows :  6\n"
     ]
    },
    {
     "name": "stdout",
     "output_type": "stream",
     "text": [
      "* * * * * * \n",
      "* * * * * \n",
      "* * * * \n",
      "* * * \n",
      "* * \n",
      "* \n"
     ]
    }
   ],
   "source": [
    "#Pattern 2\n",
    "\n",
    "r = int(input('Enter number of rows : '))\n",
    " \n",
    "i = 1\n",
    "while i <= r :\n",
    "    j = r\n",
    "    while j >= i:\n",
    "        print(\"*\", end = \" \")\n",
    "        j = j - 1\n",
    "    print()\n",
    "    i = i + 1"
   ]
  },
  {
   "cell_type": "code",
   "execution_count": 7,
   "id": "36f9731b-1ac8-4d0c-b981-68779a817205",
   "metadata": {},
   "outputs": [
    {
     "name": "stdin",
     "output_type": "stream",
     "text": [
      "Enter number of rows :  6\n"
     ]
    },
    {
     "name": "stdout",
     "output_type": "stream",
     "text": [
      "      * \n",
      "     * * \n",
      "    * * * \n",
      "   * * * * \n",
      "  * * * * * \n",
      " * * * * * * \n"
     ]
    }
   ],
   "source": [
    "#Pattern 3\n",
    "\n",
    "r = int(input('Enter number of rows : '))\n",
    "\n",
    "i = 1\n",
    "while i <= r : \n",
    "    j = r\n",
    "    while j >= i:\n",
    "        print(\" \", end = \"\")\n",
    "        j = j - 1\n",
    "    k = 1\n",
    "    while k <= i:\n",
    "        print(\"*\", end = \" \")\n",
    "        k = k + 1\n",
    "    print()\n",
    "    i = i + 1\n",
    "        "
   ]
  },
  {
   "cell_type": "markdown",
   "id": "d799d3fd-a9ca-40a3-a3a1-0397e0320943",
   "metadata": {},
   "source": [
    "## Que7- Reverse a while loop to display number from 10 to 1"
   ]
  },
  {
   "cell_type": "code",
   "execution_count": 23,
   "id": "680f2ce5-f1e8-4e58-a162-8f7004c54754",
   "metadata": {},
   "outputs": [
    {
     "name": "stdout",
     "output_type": "stream",
     "text": [
      "10\n",
      "9\n",
      "8\n",
      "7\n",
      "6\n",
      "5\n",
      "4\n",
      "3\n",
      "2\n",
      "1\n"
     ]
    }
   ],
   "source": [
    "num = 10\n",
    "while num >=1:\n",
    "    print(num)\n",
    "    num = num - 1\n"
   ]
  },
  {
   "cell_type": "markdown",
   "id": "5d6cfce6-8b59-411e-9cfc-ef1f996c34e3",
   "metadata": {},
   "source": [
    "## Que8 is same as Que7"
   ]
  },
  {
   "cell_type": "code",
   "execution_count": null,
   "id": "2725f086-8739-4628-8fea-031837d563cc",
   "metadata": {},
   "outputs": [],
   "source": []
  }
 ],
 "metadata": {
  "kernelspec": {
   "display_name": "Python 3 (ipykernel)",
   "language": "python",
   "name": "python3"
  },
  "language_info": {
   "codemirror_mode": {
    "name": "ipython",
    "version": 3
   },
   "file_extension": ".py",
   "mimetype": "text/x-python",
   "name": "python",
   "nbconvert_exporter": "python",
   "pygments_lexer": "ipython3",
   "version": "3.10.8"
  }
 },
 "nbformat": 4,
 "nbformat_minor": 5
}
